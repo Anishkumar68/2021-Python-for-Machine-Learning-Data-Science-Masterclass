{
 "cells": [
  {
   "cell_type": "markdown",
   "id": "ed607451",
   "metadata": {},
   "source": [
    "# Logistic Regression\n",
    "\n",
    "- A solution to help us predict a label.\n",
    "- Keep in mind that continuous target values can be converted into categories through \"discretization\" (turning into buckets) (50k-100k, 100k-150k)\n",
    "- Classification algorithms also often produce a probability prediction (class 0 = 10% probable, class 1 = 50% probable)\n",
    "- We need a new set of error metrics for classification, MAE and MSE will not make sense here.\n",
    "- Logistic regression uses a different line to predict values (it is not linear)"
   ]
  },
  {
   "cell_type": "markdown",
   "id": "c0108b9c",
   "metadata": {},
   "source": [
    "# The Math\n",
    "\n",
    "- The logistic function converts any input value to a value between 0 and 1\n",
    "- odds: some number n to 1.\n",
    "- in maths odds = chance of event happening divided by chance of the event NOT happening.\n",
    "- a coefficient = by how many times does 1 value increase if you increase another value (e.g. a and b coef = 0.1) a = 1 b = 1.1"
   ]
  },
  {
   "cell_type": "markdown",
   "id": "abc92688",
   "metadata": {},
   "source": [
    "# Maximum Likelyhood\n",
    "\n",
    "What logistic regression uses to find the best fitting model (equivalent of RSS residual sum of squares)"
   ]
  },
  {
   "cell_type": "code",
   "execution_count": null,
   "id": "a67c0dbb",
   "metadata": {},
   "outputs": [],
   "source": []
  }
 ],
 "metadata": {
  "kernelspec": {
   "display_name": "Python 3",
   "language": "python",
   "name": "python3"
  },
  "language_info": {
   "codemirror_mode": {
    "name": "ipython",
    "version": 3
   },
   "file_extension": ".py",
   "mimetype": "text/x-python",
   "name": "python",
   "nbconvert_exporter": "python",
   "pygments_lexer": "ipython3",
   "version": "3.8.8"
  }
 },
 "nbformat": 4,
 "nbformat_minor": 5
}
