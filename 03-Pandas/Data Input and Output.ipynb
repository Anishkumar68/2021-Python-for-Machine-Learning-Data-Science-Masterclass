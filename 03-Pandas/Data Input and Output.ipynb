{
 "cells": [
  {
   "cell_type": "markdown",
   "id": "2c864d11",
   "metadata": {},
   "source": [
    "# Data Input and Output\n",
    "\n",
    "- need to know exact location of file to access in pandas.\n",
    "- you may needs passwords or permisisons for certain data inputs."
   ]
  },
  {
   "cell_type": "code",
   "execution_count": 1,
   "id": "0cc41b2c",
   "metadata": {},
   "outputs": [],
   "source": [
    "import pandas as pd\n",
    "# We write out the dataframe out to csv"
   ]
  },
  {
   "cell_type": "code",
   "execution_count": 2,
   "id": "787f40ce",
   "metadata": {},
   "outputs": [
    {
     "data": {
      "text/plain": [
       "'C:\\\\Users\\\\Alessandro\\\\Documents\\\\DataScienceMasterclass\\\\03-Pandas'"
      ]
     },
     "execution_count": 2,
     "metadata": {},
     "output_type": "execute_result"
    }
   ],
   "source": [
    "pwd"
   ]
  },
  {
   "cell_type": "code",
   "execution_count": 3,
   "id": "c54b4814",
   "metadata": {},
   "outputs": [
    {
     "name": "stdout",
     "output_type": "stream",
     "text": [
      " Volume in drive C has no label.\n",
      " Volume Serial Number is AC37-8F77\n",
      "\n",
      " Directory of C:\\Users\\Alessandro\\Documents\\DataScienceMasterclass\\03-Pandas\n",
      "\n",
      "14/11/2021  09:32 PM    <DIR>          .\n",
      "14/11/2021  09:32 PM    <DIR>          ..\n",
      "14/11/2021  09:29 PM    <DIR>          .ipynb_checkpoints\n",
      "09/11/2021  07:30 PM    <DIR>          __pycache__\n",
      "11/11/2021  09:56 PM           565,390 00-Series.ipynb\n",
      "13/11/2021  02:10 PM           208,957 01-DataFrames.ipynb\n",
      "09/11/2021  07:30 PM           194,591 02-Conditional-Filtering.ipynb\n",
      "09/11/2021  07:30 PM           196,385 03-Useful-Methods.ipynb\n",
      "09/11/2021  07:30 PM            64,227 04-Missing-Data.ipynb\n",
      "09/11/2021  07:30 PM           219,627 05-Groupby-Operations-and-MultiIndex.ipynb\n",
      "14/11/2021  08:32 PM            62,966 06-Combining-DataFrames.ipynb\n",
      "09/11/2021  07:30 PM            32,972 07-Text-Methods.ipynb\n",
      "09/11/2021  07:30 PM            93,392 08-Time-Methods.ipynb\n",
      "09/11/2021  07:30 PM            65,234 09-Inputs-and-Outputs.ipynb\n",
      "09/11/2021  07:30 PM           101,081 10-Pivot-Tables.ipynb\n",
      "09/11/2021  07:30 PM            47,135 11-Pandas-Project-Exercise .ipynb\n",
      "09/11/2021  07:30 PM            52,576 12-Pandas-Project-Exercise-Solution.ipynb\n",
      "14/11/2021  08:32 PM            11,457 Concatenation.ipynb\n",
      "13/11/2021  07:11 PM           112,127 Conditional Filtering.ipynb\n",
      "14/11/2021  09:32 PM               992 Data Input and Output.ipynb\n",
      "13/11/2021  05:18 PM           189,763 DataFrames.ipynb\n",
      "14/11/2021  09:28 PM            26,885 Date and Time Methods.ipynb\n",
      "14/11/2021  08:32 PM           198,358 DropBy Operations.ipynb\n",
      "09/11/2021  07:30 PM                51 example.csv\n",
      "09/11/2021  07:30 PM             5,022 example.xlsx\n",
      "09/11/2021  07:30 PM        25,112,317 hotel_booking_data.csv\n",
      "14/11/2021  08:41 PM            34,767 Merging.ipynb\n",
      "14/11/2021  08:32 PM            46,525 Missing Data.ipynb\n",
      "09/11/2021  07:30 PM               177 movie_scores.csv\n",
      "09/11/2021  07:30 PM            17,727 mpg.csv\n",
      "09/11/2021  07:30 PM             5,022 my_excel_file.xlsx\n",
      "09/11/2021  07:30 PM                51 new_file.csv\n",
      "09/11/2021  07:30 PM             5,021 new_workbook.xlsx\n",
      "09/11/2021  07:30 PM                51 newfile.csv\n",
      "13/11/2021  02:06 PM            11,102 Pandas Basics.ipynb\n",
      "09/11/2021  07:30 PM            52,132 reshaping_pivot.png\n",
      "09/11/2021  07:30 PM             5,459 RetailSales_BeerWineLiquor.csv\n",
      "09/11/2021  07:30 PM             1,320 Sales_Funnel_CRM.csv\n",
      "09/11/2021  07:30 PM             1,330 sample_table.html\n",
      "09/11/2021  07:30 PM               555 simple.html\n",
      "14/11/2021  08:57 PM            10,263 Text Methods.ipynb\n",
      "09/11/2021  07:30 PM            18,752 tips.csv\n",
      "11/11/2021  09:54 PM                72 Untitled.ipynb\n",
      "13/11/2021  02:08 PM               915 Untitled1.ipynb\n",
      "14/11/2021  09:28 PM                72 Untitled10.ipynb\n",
      "13/11/2021  05:19 PM                72 Untitled2.ipynb\n",
      "13/11/2021  07:11 PM                72 Untitled3.ipynb\n",
      "13/11/2021  08:17 PM                72 Untitled4.ipynb\n",
      "14/11/2021  06:21 PM                72 Untitled5.ipynb\n",
      "14/11/2021  07:01 PM                72 Untitled6.ipynb\n",
      "14/11/2021  07:16 PM             1,019 Untitled7.ipynb\n",
      "14/11/2021  08:41 PM                72 Untitled8.ipynb\n",
      "14/11/2021  08:57 PM                72 Untitled9.ipynb\n",
      "13/11/2021  08:17 PM           154,220 Useful Methods.ipynb\n",
      "              50 File(s)     27,928,561 bytes\n",
      "               4 Dir(s)  1,204,665,958,400 bytes free\n"
     ]
    }
   ],
   "source": [
    "ls"
   ]
  },
  {
   "cell_type": "code",
   "execution_count": 4,
   "id": "efb79412",
   "metadata": {},
   "outputs": [],
   "source": [
    "# Can us os module in python\n",
    "import os"
   ]
  },
  {
   "cell_type": "code",
   "execution_count": 6,
   "id": "f5032aaa",
   "metadata": {},
   "outputs": [
    {
     "data": {
      "text/plain": [
       "'C:\\\\Users\\\\Alessandro\\\\Documents\\\\DataScienceMasterclass\\\\03-Pandas'"
      ]
     },
     "execution_count": 6,
     "metadata": {},
     "output_type": "execute_result"
    }
   ],
   "source": [
    "os.getcwd() # Probably would be better because it is cross platform"
   ]
  },
  {
   "cell_type": "code",
   "execution_count": 7,
   "id": "ff98fa71",
   "metadata": {},
   "outputs": [
    {
     "ename": "AttributeError",
     "evalue": "module 'os' has no attribute 'ls'",
     "output_type": "error",
     "traceback": [
      "\u001b[1;31m---------------------------------------------------------------------------\u001b[0m",
      "\u001b[1;31mAttributeError\u001b[0m                            Traceback (most recent call last)",
      "\u001b[1;32m<ipython-input-7-c8d65fc2fd34>\u001b[0m in \u001b[0;36m<module>\u001b[1;34m\u001b[0m\n\u001b[1;32m----> 1\u001b[1;33m \u001b[0mos\u001b[0m\u001b[1;33m.\u001b[0m\u001b[0mls\u001b[0m\u001b[1;33m(\u001b[0m\u001b[1;33m)\u001b[0m\u001b[1;33m\u001b[0m\u001b[1;33m\u001b[0m\u001b[0m\n\u001b[0m",
      "\u001b[1;31mAttributeError\u001b[0m: module 'os' has no attribute 'ls'"
     ]
    }
   ],
   "source": [
    "os.ls()"
   ]
  },
  {
   "cell_type": "code",
   "execution_count": 9,
   "id": "4c2a2b76",
   "metadata": {},
   "outputs": [
    {
     "ename": "AttributeError",
     "evalue": "module 'os' has no attribute 'dir'",
     "output_type": "error",
     "traceback": [
      "\u001b[1;31m---------------------------------------------------------------------------\u001b[0m",
      "\u001b[1;31mAttributeError\u001b[0m                            Traceback (most recent call last)",
      "\u001b[1;32m<ipython-input-9-1b798660c993>\u001b[0m in \u001b[0;36m<module>\u001b[1;34m\u001b[0m\n\u001b[1;32m----> 1\u001b[1;33m \u001b[0mos\u001b[0m\u001b[1;33m.\u001b[0m\u001b[0mdir\u001b[0m\u001b[1;33m(\u001b[0m\u001b[1;33m)\u001b[0m\u001b[1;33m\u001b[0m\u001b[1;33m\u001b[0m\u001b[0m\n\u001b[0m",
      "\u001b[1;31mAttributeError\u001b[0m: module 'os' has no attribute 'dir'"
     ]
    }
   ],
   "source": [
    "os.dir()"
   ]
  },
  {
   "cell_type": "code",
   "execution_count": 12,
   "id": "29de78fa",
   "metadata": {},
   "outputs": [],
   "source": [
    "df = pd.read_csv('example.csv', header=None)"
   ]
  },
  {
   "cell_type": "code",
   "execution_count": 13,
   "id": "2974c06f",
   "metadata": {},
   "outputs": [
    {
     "data": {
      "text/html": [
       "<div>\n",
       "<style scoped>\n",
       "    .dataframe tbody tr th:only-of-type {\n",
       "        vertical-align: middle;\n",
       "    }\n",
       "\n",
       "    .dataframe tbody tr th {\n",
       "        vertical-align: top;\n",
       "    }\n",
       "\n",
       "    .dataframe thead th {\n",
       "        text-align: right;\n",
       "    }\n",
       "</style>\n",
       "<table border=\"1\" class=\"dataframe\">\n",
       "  <thead>\n",
       "    <tr style=\"text-align: right;\">\n",
       "      <th></th>\n",
       "      <th>0</th>\n",
       "      <th>1</th>\n",
       "      <th>2</th>\n",
       "      <th>3</th>\n",
       "    </tr>\n",
       "  </thead>\n",
       "  <tbody>\n",
       "    <tr>\n",
       "      <th>0</th>\n",
       "      <td>a</td>\n",
       "      <td>b</td>\n",
       "      <td>c</td>\n",
       "      <td>d</td>\n",
       "    </tr>\n",
       "    <tr>\n",
       "      <th>1</th>\n",
       "      <td>0</td>\n",
       "      <td>1</td>\n",
       "      <td>2</td>\n",
       "      <td>3</td>\n",
       "    </tr>\n",
       "    <tr>\n",
       "      <th>2</th>\n",
       "      <td>4</td>\n",
       "      <td>5</td>\n",
       "      <td>6</td>\n",
       "      <td>7</td>\n",
       "    </tr>\n",
       "    <tr>\n",
       "      <th>3</th>\n",
       "      <td>8</td>\n",
       "      <td>9</td>\n",
       "      <td>10</td>\n",
       "      <td>11</td>\n",
       "    </tr>\n",
       "    <tr>\n",
       "      <th>4</th>\n",
       "      <td>12</td>\n",
       "      <td>13</td>\n",
       "      <td>14</td>\n",
       "      <td>15</td>\n",
       "    </tr>\n",
       "  </tbody>\n",
       "</table>\n",
       "</div>"
      ],
      "text/plain": [
       "    0   1   2   3\n",
       "0   a   b   c   d\n",
       "1   0   1   2   3\n",
       "2   4   5   6   7\n",
       "3   8   9  10  11\n",
       "4  12  13  14  15"
      ]
     },
     "execution_count": 13,
     "metadata": {},
     "output_type": "execute_result"
    }
   ],
   "source": [
    "df"
   ]
  },
  {
   "cell_type": "code",
   "execution_count": 15,
   "id": "325a33c9",
   "metadata": {},
   "outputs": [],
   "source": [
    "df = pd.read_csv('example.csv', index_col=0) # use the first index column as the actual index for the DF"
   ]
  },
  {
   "cell_type": "code",
   "execution_count": 16,
   "id": "2f8b066c",
   "metadata": {},
   "outputs": [
    {
     "data": {
      "text/html": [
       "<div>\n",
       "<style scoped>\n",
       "    .dataframe tbody tr th:only-of-type {\n",
       "        vertical-align: middle;\n",
       "    }\n",
       "\n",
       "    .dataframe tbody tr th {\n",
       "        vertical-align: top;\n",
       "    }\n",
       "\n",
       "    .dataframe thead th {\n",
       "        text-align: right;\n",
       "    }\n",
       "</style>\n",
       "<table border=\"1\" class=\"dataframe\">\n",
       "  <thead>\n",
       "    <tr style=\"text-align: right;\">\n",
       "      <th></th>\n",
       "      <th>b</th>\n",
       "      <th>c</th>\n",
       "      <th>d</th>\n",
       "    </tr>\n",
       "    <tr>\n",
       "      <th>a</th>\n",
       "      <th></th>\n",
       "      <th></th>\n",
       "      <th></th>\n",
       "    </tr>\n",
       "  </thead>\n",
       "  <tbody>\n",
       "    <tr>\n",
       "      <th>0</th>\n",
       "      <td>1</td>\n",
       "      <td>2</td>\n",
       "      <td>3</td>\n",
       "    </tr>\n",
       "    <tr>\n",
       "      <th>4</th>\n",
       "      <td>5</td>\n",
       "      <td>6</td>\n",
       "      <td>7</td>\n",
       "    </tr>\n",
       "    <tr>\n",
       "      <th>8</th>\n",
       "      <td>9</td>\n",
       "      <td>10</td>\n",
       "      <td>11</td>\n",
       "    </tr>\n",
       "    <tr>\n",
       "      <th>12</th>\n",
       "      <td>13</td>\n",
       "      <td>14</td>\n",
       "      <td>15</td>\n",
       "    </tr>\n",
       "  </tbody>\n",
       "</table>\n",
       "</div>"
      ],
      "text/plain": [
       "     b   c   d\n",
       "a             \n",
       "0    1   2   3\n",
       "4    5   6   7\n",
       "8    9  10  11\n",
       "12  13  14  15"
      ]
     },
     "execution_count": 16,
     "metadata": {},
     "output_type": "execute_result"
    }
   ],
   "source": [
    "df"
   ]
  },
  {
   "cell_type": "code",
   "execution_count": 17,
   "id": "74d084b3",
   "metadata": {},
   "outputs": [],
   "source": [
    "# To csv and put path!\n",
    "df.to_csv('newfile.csv')"
   ]
  },
  {
   "cell_type": "code",
   "execution_count": 19,
   "id": "d1f05d02",
   "metadata": {},
   "outputs": [],
   "source": [
    "df = pd.read_csv('example.csv')"
   ]
  },
  {
   "cell_type": "code",
   "execution_count": 20,
   "id": "ce24f76d",
   "metadata": {},
   "outputs": [],
   "source": [
    "df.to_csv('newfile.csv', index=False)"
   ]
  },
  {
   "cell_type": "markdown",
   "id": "7d4b5d15",
   "metadata": {},
   "source": [
    "# HTML Tables"
   ]
  },
  {
   "cell_type": "code",
   "execution_count": null,
   "id": "f1b1a5aa",
   "metadata": {},
   "outputs": [],
   "source": []
  }
 ],
 "metadata": {
  "kernelspec": {
   "display_name": "Python 3",
   "language": "python",
   "name": "python3"
  },
  "language_info": {
   "codemirror_mode": {
    "name": "ipython",
    "version": 3
   },
   "file_extension": ".py",
   "mimetype": "text/x-python",
   "name": "python",
   "nbconvert_exporter": "python",
   "pygments_lexer": "ipython3",
   "version": "3.8.8"
  }
 },
 "nbformat": 4,
 "nbformat_minor": 5
}
